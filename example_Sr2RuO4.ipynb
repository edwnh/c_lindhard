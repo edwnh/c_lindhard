{
 "cells": [
  {
   "cell_type": "code",
   "execution_count": null,
   "id": "5511c21d-fb9b-48bd-b913-91d5dd154695",
   "metadata": {},
   "outputs": [],
   "source": [
    "import numpy as np\n",
    "import matplotlib.pyplot as plt\n",
    "\n",
    "from lindhard import par_eigh, calc_chi0"
   ]
  },
  {
   "cell_type": "code",
   "execution_count": null,
   "id": "c95ff52a-6733-42a5-ba38-e93e626a0ba9",
   "metadata": {},
   "outputs": [],
   "source": [
    "# tight-binding model of https://www.sciencedirect.com/science/article/abs/pii/S0368204813001655\n",
    "# all units in eV\n",
    "def calc_ek(kz, ky, kx, t1=0.145, t2=0.016, t3=0.081, t4=0.039, t5=0.005, lamb=0.032, mu=0.122, s=1, n_threads=1):\n",
    "    cx = np.cos(2*np.pi * kx)\n",
    "    cy = np.cos(2*np.pi * ky)\n",
    "    c2x = np.cos(2*np.pi * 2*kx)\n",
    "    c2y = np.cos(2*np.pi * 2*ky)\n",
    "\n",
    "    e_yz = -2*t2*cx - 2*t1*cy\n",
    "    e_xz = -2*t1*cx - 2*t2*cy\n",
    "    e_xy = -2*t3*(cx + cy) - 4*t4*cx*cy - 2*t5*(c2x + c2y)\n",
    "\n",
    "#     A = np.array(\n",
    "#         [[e_yz - mu, 1j*s*lamb, -s*lamb],\n",
    "#         [-1j*s*lamb, e_xz - mu, 1j*lamb],\n",
    "#         [-s*lamb,    -1j*lamb,  e_xy - mu]])\n",
    "\n",
    "    # same as commented block above, but works even if ky, kx are arrays\n",
    "    z = 0*kz + 0*ky + 0*kx\n",
    "    A = np.stack(\n",
    "        [[z + e_yz - mu,    z + 1j*s*lamb, z - s*lamb],\n",
    "        [z - 1j*s*lamb,     z + e_xz - mu, z + 1j*lamb],\n",
    "        [z - s*lamb,        z - 1j*lamb,   z +e_xy - mu]])\n",
    "    A = np.ascontiguousarray(np.moveaxis(A, (0, 1), (-2, -1)))\n",
    "    return par_eigh(A, n_threads=n_threads)"
   ]
  },
  {
   "cell_type": "code",
   "execution_count": null,
   "id": "2d8f6f75-a47f-4741-bbef-ce3c5b7d604f",
   "metadata": {},
   "outputs": [],
   "source": [
    "Lz, Ly, Lx = 1, 1000, 1000\n",
    "kzs = np.linspace(0, 1, Lz, endpoint=False)\n",
    "kys = np.linspace(0, 1, Ly, endpoint=False)\n",
    "kxs = np.linspace(0, 1, Lx, endpoint=False)  # r.l.u."
   ]
  },
  {
   "cell_type": "code",
   "execution_count": null,
   "id": "a653357f-651c-4db8-9d87-ba9e6dcb77f1",
   "metadata": {},
   "outputs": [],
   "source": [
    "ws = np.linspace(0, 0.7, 701)\n",
    "gamma = 0.003\n",
    "nq = 201\n",
    "qs = np.zeros((nq, 3), dtype=np.int32)\n",
    "qs[:, 0] = np.arange(nq) # increment along b1"
   ]
  },
  {
   "cell_type": "code",
   "execution_count": null,
   "id": "25bde8ec-d1be-44c6-8b93-eeeb3ee50ae8",
   "metadata": {},
   "outputs": [],
   "source": [
    "%time ek, Ukdag = calc_ek(kzs[:, None, None], kys[:, None], kxs, n_threads=6)"
   ]
  },
  {
   "cell_type": "code",
   "execution_count": null,
   "id": "bb82d366-d8e2-4112-85ea-dbdbe288f7dd",
   "metadata": {},
   "outputs": [],
   "source": [
    "%time chi0 = calc_chi0(qs, ws, gamma, ek, Ukdag, np.zeros((3, 3)), n_threads=6)"
   ]
  },
  {
   "cell_type": "code",
   "execution_count": null,
   "id": "4b4655c3-437d-40d9-b4a9-98a519646b97",
   "metadata": {},
   "outputs": [],
   "source": [
    "import matplotlib.pyplot as plt\n",
    "# grid([0,1,2,3,4]) == -0.5, 0.5, 1.5, 2.5, 3.5, 4.5\n",
    "def grid(x):\n",
    "    dx = x[1] - x[0]\n",
    "    return np.linspace(x[0] - dx/2, x[-1] + dx/2, len(x) + 1)\n",
    "plt.pcolormesh(grid(qs[:, 0]/Lx), grid(ws), -chi0.imag.T, rasterized=True)\n",
    "plt.xlim(0, (nq-1)/Lx)\n",
    "plt.ylim(0, 0.4)\n",
    "plt.ylabel(r\"$\\omega$ [eV]\")\n",
    "plt.xlabel(\"$(q, 0)$ [r.l.u.]\")\n",
    "plt.title(r\"$-\\text{Im }\\chi^0(q,\\omega)$\")\n",
    "plt.colorbar()\n",
    "plt.show()"
   ]
  }
 ],
 "metadata": {
  "kernelspec": {
   "display_name": "Python 3 (ipykernel)",
   "language": "python",
   "name": "python3"
  },
  "language_info": {
   "codemirror_mode": {
    "name": "ipython",
    "version": 3
   },
   "file_extension": ".py",
   "mimetype": "text/x-python",
   "name": "python",
   "nbconvert_exporter": "python",
   "pygments_lexer": "ipython3",
   "version": "3.12.7"
  }
 },
 "nbformat": 4,
 "nbformat_minor": 5
}
